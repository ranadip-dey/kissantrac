{
 "cells": [
  {
   "cell_type": "code",
   "execution_count": 48,
   "metadata": {
    "scrolled": true
   },
   "outputs": [
    {
     "name": "stdout",
     "output_type": "stream",
     "text": [
      "0 ACE DI-854 NG Price 2021 in India, ACE DI-854 NG Tractor, Engine Capacity & Specs\n",
      "1 ACE DI-350+ Price 2021 in India, ACE DI-350+ Tractor, Engine Capacity & Specs\n",
      "2 ACE DI-350NG Price 2021 in India, ACE DI-350NG Tractor, Engine Capacity & Specs\n",
      "3 ACE DI-450+ Price 2021 in India, ACE DI-450+ Tractor, Engine Capacity & Specs\n",
      "4 ACE DI-450 NG Price 2021 in India, ACE DI-450 NG Tractor, Engine Capacity & Specs\n",
      "5 ACE DI 450 NG 4WD Price 2021 in India, ACE DI 450 NG 4WD Tractor, Engine Capacity & Specs\n",
      "6 ACE DI-550 STAR Price 2021 in India, ACE DI-550 STAR Tractor, Engine Capacity & Specs\n",
      "7 ACE DI 550 NG 4WD Price 2021 in India, ACE DI 550 NG 4WD Tractor, Engine Capacity & Specs\n",
      "8 ACE DI-550 NG Price 2021 in India, ACE DI-550 NG Tractor, Engine Capacity & Specs\n",
      "9 ACE DI-550+ Price 2021 in India, ACE DI-550+ Tractor, Engine Capacity & Specs\n",
      "10 ACE DI-6565 Price 2021 in India, ACE DI-6565 Tractor, Engine Capacity & Specs\n",
      "11 ACE DI 6500 Price 2021 in India, ACE DI 6500 Tractor, Engine Capacity & Specs\n",
      "12 ACE DI 6500 4WD Price 2021 in India, ACE DI 6500 4WD Tractor, Engine Capacity & Specs\n",
      "13 ACE DI 7500 Price 2021 in India, ACE DI 7500 Tractor, Engine Capacity & Specs\n",
      "14 ACE DI 7500 4WD Price 2021 in India, ACE DI 7500 4WD Tractor, Engine Capacity & Specs\n",
      "15 ACE DI 7575 Price 2021 in India, ACE DI 7575 Tractor, Engine Capacity & Specs\n",
      "16 ACE DI 9000 4WD Price 2021 in India, ACE DI 9000 4WD Tractor, Engine Capacity & Specs\n"
     ]
    }
   ],
   "source": [
    "import requests\n",
    "from bs4 import BeautifulSoup\n",
    "import csv\n",
    "import pandas as pd\n",
    "\n",
    "\n",
    "\n",
    "tn=0    \n",
    "file1 = open('links68.csv', 'r')\n",
    "Lines = file1.readlines()\n",
    " \n",
    "# Strips the newline character\n",
    "for line in Lines:\n",
    "    line= line.rstrip()\n",
    "    page = requests.get(line, headers={'User-Agent': 'Custom'})\n",
    "    soup = BeautifulSoup(page.content, 'html.parser')\n",
    "    page_body = soup.body\n",
    "    page_title = soup.title.text\n",
    "    #print(line)\n",
    "    print(str(tn) + ' ' + page_title)\n",
    "    tn=tn+1\n",
    "        # Extract first <h1>(...)</h1> text\n",
    "    first_h1 = soup.select('h1')[0].text\n",
    "        #code working --scrapped 1st part\n",
    "    all_p_tags = []\n",
    "    for pele in range(10):\n",
    "        all_p_tags.append(page_body.select('p')[pele].text.replace(u'\\xa0', u' '))\n",
    "        heads = page_body.find_all('div', attrs={'class':'collapsible-header'})\n",
    "        all_attr_header = []\n",
    "        all_attr_tags = []\n",
    "        for head in heads:\n",
    "            all_attr_tags.append(head.text.replace(u'\\xa0', u' '))\n",
    "\n",
    "            #write in file\n",
    "            with open(first_h1 + '.csv', 'w') as output_file:\n",
    "                output_file.write(page_title)\n",
    "                output_file.write(\"\\n\")\n",
    "                output_file.write(\"+++++++++++++++++++++++++++++++++++++++++++++++++++++++++++\")\n",
    "                output_file.write(\"\\n\")\n",
    "                for item in all_p_tags:\n",
    "                    output_file.write(\"%s\\n\" % item)\n",
    "                output_file.write(\"============================================================\")\n",
    "                output_file.write(\"\\n\")\n",
    "                for att in all_attr_tags:\n",
    "                    output_file.write(\"%s\\n\" % att)\n",
    "                output_file.write(\"\\n\")\n",
    "                output_file.write(\"============================================================\")\n",
    "                output_file.write(\"\\n\")\n",
    "\n",
    "            df_list=pd.read_html(page.text)\n",
    "            for d in range(len(df_list)):\n",
    "                df_list[d].to_csv(first_h1 + '.csv', mode='a', header=False)        "
   ]
  },
  {
   "cell_type": "code",
   "execution_count": null,
   "metadata": {},
   "outputs": [],
   "source": []
  },
  {
   "cell_type": "code",
   "execution_count": null,
   "metadata": {},
   "outputs": [],
   "source": []
  }
 ],
 "metadata": {
  "kernelspec": {
   "display_name": "Python 3",
   "language": "python",
   "name": "python3"
  },
  "language_info": {
   "codemirror_mode": {
    "name": "ipython",
    "version": 3
   },
   "file_extension": ".py",
   "mimetype": "text/x-python",
   "name": "python",
   "nbconvert_exporter": "python",
   "pygments_lexer": "ipython3",
   "version": "3.7.3"
  }
 },
 "nbformat": 4,
 "nbformat_minor": 2
}
