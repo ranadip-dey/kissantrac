{
 "cells": [
  {
   "cell_type": "code",
   "execution_count": 20,
   "metadata": {},
   "outputs": [
    {
     "name": "stdout",
     "output_type": "stream",
     "text": [
      "ACE Tractor Price List 2021 | ACE Tractor Models Reviews & Features in India\n"
     ]
    }
   ],
   "source": [
    "import requests\n",
    "from bs4 import BeautifulSoup\n",
    "import csv\n",
    "#import pandas as pd\n",
    "import requests\n",
    "\n",
    "page = requests.get(\n",
    "    \"https://tractorguru.com/ace-tractors/\")\n",
    "#    \"https://tractorguru.com/new-tractors?brands=57\")\n",
    "\n",
    "soup = BeautifulSoup(page.content, 'html.parser')\n",
    "\n",
    "# Extract title of page\n",
    "page_title = soup.title.text\n",
    "\n",
    "#print the result\n",
    "print(page_title)\n",
    "\n",
    "# Extract body of page\n",
    "page_body = soup.body\n",
    "\n",
    "#print(page_body)\n",
    "#file_name = 'MarksData.xlsx'\n",
    "\n",
    "#write in file\n",
    "with open('links68.csv', 'w') as output_file:\n",
    "        for a in page_body.findAll('a',href=True):\n",
    "            output_file.write(\"\\n\")\n",
    "            output_file.write(a['href'])\n",
    "\n",
    "#--------------------------------------------------------------------------\n",
    "# url = \"https://tractorguru.com/most-popular-tractors/\"\n",
    "\n",
    "# r = requests.get(url)\n",
    "# df_list = pd.read_html(r.text) # this parses all the tables in webpages to a list\n",
    "# df = df_list[0]\n",
    "# print(df)\n"
   ]
  },
  {
   "cell_type": "code",
   "execution_count": null,
   "metadata": {},
   "outputs": [],
   "source": []
  }
 ],
 "metadata": {
  "kernelspec": {
   "display_name": "Python 3",
   "language": "python",
   "name": "python3"
  },
  "language_info": {
   "codemirror_mode": {
    "name": "ipython",
    "version": 3
   },
   "file_extension": ".py",
   "mimetype": "text/x-python",
   "name": "python",
   "nbconvert_exporter": "python",
   "pygments_lexer": "ipython3",
   "version": "3.7.3"
  }
 },
 "nbformat": 4,
 "nbformat_minor": 2
}
