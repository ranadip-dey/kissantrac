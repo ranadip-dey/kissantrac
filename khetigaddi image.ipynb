{
 "cells": [
  {
   "cell_type": "code",
   "execution_count": 22,
   "metadata": {},
   "outputs": [
    {
     "name": "stdout",
     "output_type": "stream",
     "text": [
      "Standard Tractors Tractor Models in india\n",
      "1 images found.\n",
      "Getting: 20210326115203.png\n",
      "1 images found.\n",
      "Getting: 20210326115255.png\n",
      "1 images found.\n",
      "Getting: 20210326115352.png\n",
      "1 images found.\n",
      "Getting: 20210326115455.png\n",
      "1 images found.\n",
      "Getting: 20210326115544.png\n",
      "1 images found.\n",
      "Getting: 20210326115633.png\n",
      "Done.\n"
     ]
    }
   ],
   "source": [
    "from bs4 import BeautifulSoup\n",
    "import urllib.request as urllib2\n",
    "from urllib.request import urlretrieve\n",
    "import urllib.request\n",
    "import shutil\n",
    "import requests\n",
    "#from urlparse import urljoin\n",
    "import sys\n",
    "import time\n",
    "\n",
    "def make_soup(url):\n",
    "    req = urllib2.Request(url, headers={'User-Agent' : \"Magic Browser\"}) \n",
    "    html = urllib2.urlopen(req)\n",
    "    return BeautifulSoup(html, 'html.parser')\n",
    "\n",
    "#view-cnt-badge badge\n",
    "\n",
    "def get_images(url):\n",
    "    soup = make_soup(url)\n",
    "    page_body = soup.body\n",
    "    first_h1 = soup.select('h1')[0].text\n",
    "    print(first_h1)\n",
    "    for div in page_body.find_all('div', attrs={'col-sm-5 col-lg-4'}):\n",
    "        #print(div)\n",
    "        images = [img for img in div.findAll('img', attrs={'class':'img-fluid lazyload'})]\n",
    "        print (str(len(images)) + \" images found.\")\n",
    "        image_links = [each.get('data-src') for each in images]\n",
    "        for each in image_links:\n",
    "            try:\n",
    "                filename = each.strip().split('/')[-1].strip()\n",
    "                print ('Getting: ' + each.split(\"/\")[5])\n",
    "                r = requests.get(each, stream=True, headers={'User-agent': 'Mozilla/5.0'})\n",
    "                if r.status_code == 200:\n",
    "                    with open(each.split(\"/\")[5] + \".png\", 'wb') as f:\n",
    "                        r.raw.decode_content = True\n",
    "                        shutil.copyfileobj(r.raw, f)\n",
    "\n",
    "            except  Exception as e: # work on python 3.x\n",
    "                print ('  An error occured. Continuing.'+ str(e))\n",
    "    print('Done.')\n",
    "\n",
    "\n",
    "\n",
    "# file1 = open('links57.csv', 'r')\n",
    "# Lines = file1.readlines()\n",
    " \n",
    "# # Strips the newline character\n",
    "# for line in Lines:\n",
    "#     line= line.rstrip()\n",
    "get_images(\"https://khetigaadi.com/new-tractor-brand/standard-tractors/en\")\n",
    "#print(\"all file downloaded.\")\n",
    "\n",
    "#img-fluid lazyload"
   ]
  },
  {
   "cell_type": "code",
   "execution_count": null,
   "metadata": {},
   "outputs": [],
   "source": []
  }
 ],
 "metadata": {
  "kernelspec": {
   "display_name": "Python 3",
   "language": "python",
   "name": "python3"
  },
  "language_info": {
   "codemirror_mode": {
    "name": "ipython",
    "version": 3
   },
   "file_extension": ".py",
   "mimetype": "text/x-python",
   "name": "python",
   "nbconvert_exporter": "python",
   "pygments_lexer": "ipython3",
   "version": "3.7.3"
  }
 },
 "nbformat": 4,
 "nbformat_minor": 2
}
